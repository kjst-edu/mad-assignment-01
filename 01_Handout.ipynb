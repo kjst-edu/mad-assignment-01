{
 "cells": [
  {
   "cell_type": "markdown",
   "id": "4c8615e9",
   "metadata": {},
   "source": [
    "動態マクロ Week 1 \n",
    "\n",
    "# 1. 授業のテーマ\n",
    "\n",
    "- 「時間変化」するマクロ経済の様子を調べるモデルを学ぶ。\n",
    "- 理論とシミュレーション\n",
    "- ついでに Python プログラミング言語の使い方を学ぶ。\n",
    "\n",
    "経済学の観点からテーマを切り分けると次のようになります。\n",
    "\n",
    "- マクロデータの加工\n",
    "  - 成長の数学: 指数関数と対数関数\n",
    "  - 物価指数・実質GDPの計算\n",
    "  - 格差指数の計算\n",
    "- 経済変動モデル\n",
    "  - 動学的AD-ASモデル\n",
    "- 経済成長モデル\n",
    "  - ソローモデル\n",
    "  - ラムゼーモデル\n",
    "  - 税率変化に伴う消費の変化のシミュレーション\n",
    "\n",
    "### 講義ノート\n",
    "\n",
    "まだ未完成ですが，授業の補助教材として利用します。成長モデル（ソロー，ラムゼーなど），変動モデル（動学的AD-AS，RBCなど）を扱う予定です。\n",
    "\n",
    "https://github.com/kenjisato/MaD/tree/master/Book\n"
   ]
  },
  {
   "cell_type": "markdown",
   "id": "ecbed514",
   "metadata": {},
   "source": [
    "# 2. アカウント作成\n",
    "\n",
    "この授業では複数のオンラインサービスを使用します。アカウントの作成をお願いします。すでに利用中のものがあれば、新しく作る必要はありません。\n",
    "\n",
    "- Google （[Colaboratory](https://colab.research.google.com/) を使って Python コードを実行するため）\n",
    "- [GitHub](https://github.com/join) （課題の配布と提出のため）\n",
    "- Discord（質疑応答のため） \n",
    "  - 招待リンク https://discord.gg/SH8RVuNgK2\n",
    "- [Paiza](https://paiza.jp/works)\n"
   ]
  },
  {
   "cell_type": "markdown",
   "id": "fa09ab71",
   "metadata": {},
   "source": [
    "\n",
    "# 3. 評価方法\n",
    "\n",
    "以下の 4 つの評価方針により評価します。\n",
    "\n",
    "- 授業中に作成するノートの提出 (30点)\n",
    "- 期末レポート (40点)\n",
    "- 期末テスト (30点)\n",
    "- その他 (追加点 / 最大30点)\n",
    "  - 適宜出題される宿題\n",
    "  - Paiza ラーニングの自習\n",
    "\n",
    "以上の合計得点が60点以上の場合に合格です。\n",
    "\n",
    "##  「その他」について\n",
    "\n",
    "### (1) 講義動画の視聴\n",
    "\n",
    "経済理論の解説を講義動画にて行う場合があります。板書を取って、ノート提出してもらう課題があります。\n",
    "\n",
    "### (2) Paiza ラーニングの自習\n",
    "\n",
    "Paiza ラーニングの学校フリーパスクーポンを申請してください。 https://forms.office.com/r/3TrnW5hr8z\n",
    "\n",
    "下記のレッスンを受講して認定証または修了状態のわかるスクショを送ってください。\n",
    "\n",
    "- 新・Python 入門編（全11レッスン） https://paiza.jp/works/python/new-primer\n",
    "\n",
    "提出先: \n"
   ]
  }
 ],
 "metadata": {
  "kernelspec": {
   "display_name": "Python 3 (ipykernel)",
   "language": "python",
   "name": "python3"
  },
  "language_info": {
   "codemirror_mode": {
    "name": "ipython",
    "version": 3
   },
   "file_extension": ".py",
   "mimetype": "text/x-python",
   "name": "python",
   "nbconvert_exporter": "python",
   "pygments_lexer": "ipython3",
   "version": "3.8.16"
  },
  "vscode": {
   "interpreter": {
    "hash": "397704579725e15f5c7cb49fe5f0341eb7531c82d19f2c29d197e8b64ab5776b"
   }
  }
 },
 "nbformat": 4,
 "nbformat_minor": 5
}
