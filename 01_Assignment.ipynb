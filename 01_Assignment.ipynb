{
 "cells": [
  {
   "cell_type": "markdown",
   "id": "28950ed1",
   "metadata": {},
   "source": [
    "[![Open In Colab](https://colab.research.google.com/assets/colab-badge.svg)](http://colab.research.google.com/github/kjst-edu/mad-assignment-01/blob/main/01_Assignment.ipynb)  \n",
    "\n",
    "\n",
    "# 課題 01\n",
    "\n",
    "この課題では、日々の課題の提出方法を確認します。\n",
    "\n",
    "\n",
    "## ステップ0：レポジトリ作成\n",
    "\n",
    "この授業では GitHub Classroom というサービスを使って、各受講生専用の「レポジトリ」を作成し、そこにファイルをアップロードしていただきます。レポジトリというのは、GitHub の用語でファイル置き場のことです。\n",
    "\n",
    "他の受講生のレポジトリに提出しても、評価できませんので、Moodle に掲載している招待リンクと自分の GitHub アカウントを使って、自分専用のレポジトリを作成するところからはじめてください。\n",
    "\n",
    "1. GitHub アカウントをまだ作っていない人は作ってください。\n",
    "1. Moodle に掲載している「課題01 招待リンク」から、今週の課題に対応するレポジトリを作ってください。\n",
    "1. ウェブ上で `01_Assignment.ipynb` を開くと、ページ上部に <img src=\"https://colab.research.google.com/assets/colab-badge.svg\" alt=\"open in colab\" width=\"100px\" style=\"display:inline;\">　のバッジがあるので、クリックします。\n",
    "1. Google Colaboratory が開くと <img src=\"https://github.com/kjst-edu/mad-assignment-01/raw/main/images/copy_to_drive.png\" alt=\"Copy to Drive\" width=\"130px\" style=\"display:inline;\"> というボタンが見えるのでこれをクリックして、Google Drive の自分の領域に保存します。\n",
    "1. ファイル名のところに Google Drive のロゴが見えていれば OK です\n",
    "\n",
    "\n",
    "   <img src=\"https://github.com/kjst-edu/mad-assignment-01/raw/main/images/copy_of.png\" alt=\"Copy to Drive\" width=\"280px\">\n",
    "\n"
   ]
  },
  {
   "cell_type": "markdown",
   "id": "216ef516",
   "metadata": {},
   "source": [
    "## ステップ 1：ファイル名の変更\n",
    "\n",
    "ファイル名は画面左上の「〇〇.ipynb」に表示されています。「Open In Colab」をクリックすると（残念なことに）「Copy of 」というプリフィックスがついてしまうので、毎回これを消してください。"
   ]
  },
  {
   "cell_type": "markdown",
   "id": "00c6123b",
   "metadata": {},
   "source": [
    "## ステップ2：テキストセルの作成と編集\n",
    "\n",
    "Colaboratory で何かを入力する枠のことを**セル**と呼びます。セルには**テキストセル**と**コードセル** の2種類があります。テキストセルでは，Markdown と呼ばれる形式で文章，LaTeX の形式で数式を入力できます。コードセルには Python のコードを入力できます。\n",
    "\n",
    "よく使うマークダウンの記法を紹介します。\n",
    " \n",
    "### 見出し\n",
    "\n",
    "    # 見出し1\n",
    "    ## 見出し2\n",
    "    ### 見出し3\n",
    "    \n",
    "### 段落\n",
    "\n",
    "改行は無視されることに注意。段落を分けたいときは間には1行開ける。\n",
    "\n",
    "\n",
    "    段落1\n",
    "    段落1の続き。\n",
    "    \n",
    "    段落2\n",
    "\n",
    "### 強調\n",
    "    \n",
    "    *斜体*  \n",
    "    **強調**  \n",
    "\n",
    "\n",
    "### リスト\n",
    "\n",
    "    - 項目1\n",
    "    - 項目2\n",
    "\n",
    "    1. 項目1\n",
    "    1. 項目2\n",
    "\n",
    "### コード\n",
    "\n",
    "コード。見せるだけで実行されない。「 ` 」は **バックティック**とか**バッククォート**と呼ばれる記号です。ほとんどの人にとって馴染みがないと思われるので，キーボードで探しておいてください。\n",
    "\n",
    "    `inline_code`\n",
    "\n",
    "    ```\n",
    "    code_block\n",
    "    ```\n",
    "\n",
    "### その他\n",
    "\n",
    "    [Link](https://google.com/)\n",
    "    ![代替テキスト](画像のURL)\n",
    "\n",
    "\n",
    "↓↓↓ ここにテキストセルを作成してみましょう ↓↓↓"
   ]
  },
  {
   "cell_type": "markdown",
   "id": "c079b1f5",
   "metadata": {},
   "source": [
    "不要なセルを削除することもできます。\n",
    "\n",
    "↓↓↓ このテキストセルを削除してみましょう ↓↓↓"
   ]
  },
  {
   "cell_type": "markdown",
   "id": "9e425ae3",
   "metadata": {},
   "source": [
    "!!!!!!!!!!!!!!\n",
    "\n",
    "# このセルを削除すること！！\n",
    "\n",
    "このセルを残してはいけません。\n",
    "\n",
    "!!!!!!!!!!!!!!"
   ]
  },
  {
   "cell_type": "markdown",
   "id": "f70ad759",
   "metadata": {},
   "source": [
    "## ステップ3：コードセルの作成と編集\n",
    "\n",
    "次に、Python のコードを入力・実行するセルを作ってみましょう。\n",
    "\n",
    "\n",
    "### サンプル 1：実行練習\n",
    "\n",
    "次のコードは1から100までの足し算を計算するコードです。Windows の人は Ctrl+Enter，Mac の人は Command+Enter で実行してみましょう。"
   ]
  },
  {
   "cell_type": "code",
   "execution_count": null,
   "id": "6354e973",
   "metadata": {},
   "outputs": [],
   "source": [
    "sum(range(1, 101))"
   ]
  },
  {
   "cell_type": "markdown",
   "id": "11697a04",
   "metadata": {},
   "source": [
    "実行結果が表示されました。テキストセルとコードセルの見た目と役割の違いが\n",
    "\n",
    "おいおい説明していきますが，\n",
    "\n",
    "**括弧は内側から読んでいく**\n",
    "\n",
    "という原則を紹介しておきましょう。先程のコードは\n",
    "\n",
    "1. `range(1, 101)`\n",
    "1. `sum(...)`\n",
    "\n",
    "という2段階で解釈します。それぞれの意味は次の通りです。\n",
    "\n",
    "\n",
    "- `range(1, 101)` は，数列 $\\{1, 2, 3, \\dots, 100\\}$\n",
    "- `sum(...)` は数列の総和\n",
    "\n",
    "\n",
    "なんで `range(1, 100)` じゃないのか，と思ったかもしれませんが，`range(a, b)` は $a \\le x < b$ なる整数 $x$ を順番に並べた数列なので 101 を含みません。"
   ]
  },
  {
   "cell_type": "markdown",
   "id": "bdf28094",
   "metadata": {},
   "source": [
    "### サンプル2：修正して実行\n",
    "\n",
    "この授業ではコードを穴埋め形式で提示します。アンダースコア `____` の部分を修正して，実行できるコードを完成させます。\n",
    "\n",
    "既存のコードセルをダブルクリックすると修正可能な状態になります。\n",
    "\n",
    "下のコードを修正して，1 から 1500 までの整数の総和を計算してください。`1124250` と表示されれば正解です。"
   ]
  },
  {
   "cell_type": "code",
   "execution_count": null,
   "id": "64b8468e",
   "metadata": {},
   "outputs": [],
   "source": [
    "sum(range(1, ____))"
   ]
  },
  {
   "cell_type": "markdown",
   "id": "d9fe8808",
   "metadata": {},
   "source": [
    "### サンプル3：作成して実行\n",
    "\n",
    "コードの勉強をしたり，実験したりするときには，ゼロからセルを作る方がよい場合もあるでしょう。\n",
    "\n",
    "内容は自由ですが，書くことが思いつかない人は次のコードを書いて，何度か実行してみましょう。\n",
    "\n",
    "```python\n",
    "import random\n",
    "rps = [\"グー\", \"チョキ\", \"パー\"]\n",
    "random.choice(rps)\n",
    "```\n",
    "\n",
    "↓↓↓ この下にコードセルを作成してみましょう ↓↓↓"
   ]
  },
  {
   "cell_type": "markdown",
   "id": "fb1b5eae",
   "metadata": {},
   "source": [
    "## 提出する\n",
    "\n",
    "1. **確認**：ファイル名から「Copy of 」が消えていることを確認してください。\n",
    "1. **ダウンロード**：File ▷ Download ▷ Download .ipynb   \n",
    "   <img src=\"https://github.com/kjst-edu/mad-assignment-01/raw/main/images/download_ipynb.png\" alt=\"Download ipynb\" width=\"350px\">\n",
    "1. **確認**：ダウンロードしたファイルをエクスプローラー（Finder）で探す。ファイル名に (1) など余計なサフィックスが付いていないことを確認してください。\n",
    "1. **アップロード**：提出用のレポジトリを開いて，ドラッグ・アンド・ドロップでアップロードします。\n",
    "1. **確定**：「Commit changes」と表示されます。メッセージを書く欄が表示されますが，そのまま緑色のボタンを押して大丈夫です。"
   ]
  },
  {
   "cell_type": "code",
   "execution_count": null,
   "id": "95f36bb6",
   "metadata": {},
   "outputs": [],
   "source": []
  }
 ],
 "metadata": {
  "kernelspec": {
   "display_name": "Python 3 (ipykernel)",
   "language": "python",
   "name": "python3"
  },
  "language_info": {
   "codemirror_mode": {
    "name": "ipython",
    "version": 3
   },
   "file_extension": ".py",
   "mimetype": "text/x-python",
   "name": "python",
   "nbconvert_exporter": "python",
   "pygments_lexer": "ipython3",
   "version": "3.8.16"
  }
 },
 "nbformat": 4,
 "nbformat_minor": 5
}
